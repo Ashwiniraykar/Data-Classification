{
 "cells": [
  {
   "cell_type": "code",
   "execution_count": 1,
   "metadata": {},
   "outputs": [],
   "source": [
    "import numpy as np\n",
    "import pandas as pd\n",
    "import matplotlib.pyplot as plt"
   ]
  },
  {
   "cell_type": "code",
   "execution_count": 2,
   "metadata": {},
   "outputs": [],
   "source": [
    "dataset = pd.read_csv('data.csv')"
   ]
  },
  {
   "cell_type": "code",
   "execution_count": 3,
   "metadata": {},
   "outputs": [],
   "source": [
    "x = dataset[['x1','x2','x3','x4']]\n",
    "y = dataset['y']"
   ]
  },
  {
   "cell_type": "code",
   "execution_count": 4,
   "metadata": {},
   "outputs": [],
   "source": [
    "from sklearn.model_selection import train_test_split\n",
    "x_train, x_test, y_train, y_test = train_test_split(x, y, test_size=0.2, random_state=42)"
   ]
  },
  {
   "cell_type": "code",
   "execution_count": 5,
   "metadata": {},
   "outputs": [],
   "source": [
    "from sklearn.linear_model import LogisticRegression    \n",
    "logr = LogisticRegression()\n",
    "\n",
    "logr.fit(x_train,y_train)\n",
    "\n",
    "y_pred_class=logr.predict(x_test)  "
   ]
  },
  {
   "cell_type": "code",
   "execution_count": 6,
   "metadata": {},
   "outputs": [
    {
     "name": "stdout",
     "output_type": "stream",
     "text": [
      "Intercept: [-4.19546324 -3.21251524 -4.69371361]\n",
      "Coefficient [[ 0.92052479 -0.71093853  2.02823359  2.98103043]\n",
      " [-0.89713157  0.55509136 -0.770296    0.14112017]\n",
      " [ 1.39458468 -0.43864047 -0.65337787 -1.78741335]]\n"
     ]
    }
   ],
   "source": [
    "print(\"Intercept:\", logr.intercept_)\n",
    "print('Coefficient', logr.coef_)"
   ]
  },
  {
   "cell_type": "code",
   "execution_count": 7,
   "metadata": {},
   "outputs": [
    {
     "data": {
      "text/plain": [
       "Text(0,0.5,'Predicted Y')"
      ]
     },
     "execution_count": 7,
     "metadata": {},
     "output_type": "execute_result"
    },
    {
     "data": {
      "image/png": "[encoded data removed]",
      "text/plain": [
       "<matplotlib.figure.Figure at 0x1ff9167a550>"
      ]
     },
     "metadata": {},
     "output_type": "display_data"
    }
   ],
   "source": [
    "plt.scatter(y_test, y_pred_class)\n",
    "plt.xlabel('Y')\n",
    "plt.ylabel('Predicted Y')"
   ]
  },
  {
   "cell_type": "code",
   "execution_count": 8,
   "metadata": {},
   "outputs": [],
   "source": [
    "# ONE TO REST CLASSIFIER"
   ]
  },
  {
   "cell_type": "code",
   "execution_count": 9,
   "metadata": {},
   "outputs": [],
   "source": [
    "from sklearn import datasets\n",
    "from sklearn.multiclass import OneVsRestClassifier\n",
    "from sklearn.svm import LinearSVC"
   ]
  },
  {
   "cell_type": "code",
   "execution_count": 15,
   "metadata": {},
   "outputs": [],
   "source": [
    "ovoc = OneVsRestClassifier(LinearSVC(random_state=0))\n",
    "ovoc.fit(x_train, y_train)\n",
    "y_predictclass1=ovoc.predict(x_test) "
   ]
  },
  {
   "cell_type": "code",
   "execution_count": 19,
   "metadata": {},
   "outputs": [
    {
     "data": {
      "text/plain": [
       "Text(0,0.5,'Predicted Y')"
      ]
     },
     "execution_count": 19,
     "metadata": {},
     "output_type": "execute_result"
    },
    {
     "data": {
      "image/png": "[encoded data removed]",
      "text/plain": [
       "<matplotlib.figure.Figure at 0x1ff93ca18d0>"
      ]
     },
     "metadata": {},
     "output_type": "display_data"
    }
   ],
   "source": [
    "plt.scatter(y_test, y_predictclass1)\n",
    "plt.xlabel('Y')\n",
    "plt.ylabel('Predicted Y')"
   ]
  },
  {
   "cell_type": "code",
   "execution_count": 20,
   "metadata": {},
   "outputs": [
    {
     "name": "stdout",
     "output_type": "stream",
     "text": [
      "Intercept: [[-2.27880168]\n",
      " [-1.13195862]\n",
      " [-2.10271464]]\n",
      "Coefficient [[ 0.44339412 -0.35142192  0.95773837  1.5285465 ]\n",
      " [-0.30981776  0.19245683 -0.28162756  0.06094908]\n",
      " [ 0.61573866 -0.17332821 -0.31848434 -0.74711681]]\n"
     ]
    }
   ],
   "source": [
    "print(\"Intercept:\", ovoc.intercept_)\n",
    "print('Coefficient', ovoc.coef_)"
   ]
  },
  {
   "cell_type": "code",
   "execution_count": 21,
   "metadata": {},
   "outputs": [],
   "source": [
    "def sigmoid(x):\n",
    "    return 1/(1+(np.exp(-x)))\n",
    "def cost(X, Y, W, m):\n",
    "    return  -(1./m) * np.sum(\n",
    "        (np.multiply(Y, np.log(sigmoid(np.dot(W,X))))) +\n",
    "        (np.multiply((1-Y),np.log(1-sigmoid(np.dot(W,X))))))\n"
   ]
  },
  {
   "cell_type": "code",
   "execution_count": 22,
   "metadata": {},
   "outputs": [],
   "source": [
    "def logisticRegression(X1, Y1, alpha, iterations):\n",
    "    X=np.c_[np.ones((len(Y1), 1)), X1]\n",
    "    Y=np.array(Y1).reshape(1,len(Y1))\n",
    "    X=X.T\n",
    "    cost_list = []\n",
    "    m = np.size(X, axis=1)\n",
    "    W = np.random.random((1, X.shape[0]))\n",
    "    for i in range(iterations):\n",
    "        W = W - (alpha/m) * np.dot((sigmoid(np.dot(W,X)) - Y), X.T)\n",
    "        cost_ = cost(X, Y, W, m)\n",
    "        cost_list.append([i, cost_])\n",
    "    return W, cost_list"
   ]
  },
  {
   "cell_type": "code",
   "execution_count": 24,
   "metadata": {},
   "outputs": [
    {
     "name": "stdout",
     "output_type": "stream",
     "text": [
      "W0 = [[-5.55508449  1.13588077 -0.89345858  2.49406858  3.81448956]]\n"
     ]
    },
    {
     "data": {
      "image/png": "[encoded data removed]",
      "text/plain": [
       "<matplotlib.figure.Figure at 0x1ff8c028898>"
      ]
     },
     "metadata": {},
     "output_type": "display_data"
    }
   ],
   "source": [
    "y0 = y_train.copy()\n",
    "y0[y_train==0]=1\n",
    "y0[y_train==1]=0\n",
    "y0[y_train==2]=0\n",
    "W0, cost_list = logisticRegression(x_train, y0, 0.01, 100000)\n",
    "print('W0 =', W0)\n",
    "for i in range(0, len(cost_list), 100):\n",
    "    plt.plot(cost_list[i][0], cost_list[i][1], 'rx')\n",
    "plt.show()\n"
   ]
  },
  {
   "cell_type": "code",
   "execution_count": 25,
   "metadata": {},
   "outputs": [
    {
     "name": "stdout",
     "output_type": "stream",
     "text": [
      "Accuracy class 0 =  0.9715189873417721\n"
     ]
    }
   ],
   "source": [
    "X=np.c_[np.ones((x_test.shape[0], 1)), x_test].T\n",
    "predictions = np.dot(W0,X )\n",
    "predictions[predictions < 0] = 0\n",
    "predictions[predictions >0] = 1\n",
    "y0_test = y_test.copy()\n",
    "y0_test[y_test==0]=1\n",
    "y0_test[y_test==1]=0\n",
    "y0_test[y_test==2]=0\n",
    "print(\"Accuracy class 0 = \", sum(y0_test == predictions[0]) / x_test.shape[0] )"
   ]
  },
  {
   "cell_type": "code",
   "execution_count": 26,
   "metadata": {},
   "outputs": [
    {
     "name": "stdout",
     "output_type": "stream",
     "text": [
      "W1 = [[-3.46606791 -0.9328332   0.5878417  -0.8673554   0.1824366 ]]\n"
     ]
    },
    {
     "data": {
      "image/png": "[encoded data removed]",
      "text/plain": [
       "<matplotlib.figure.Figure at 0x1ff93c6a668>"
      ]
     },
     "metadata": {},
     "output_type": "display_data"
    }
   ],
   "source": [
    "y1 = y_train.copy()\n",
    "y1[y_train==0]=0\n",
    "y1[y_train==1]=1\n",
    "y1[y_train==2]=0\n",
    "W1, cost_list = logisticRegression(x_train, y1, 0.01, 100000)\n",
    "\n",
    "print('W1 =', W1)\n",
    "for i in range(0, len(cost_list), 100):\n",
    "    plt.plot(cost_list[i][0], cost_list[i][1], 'bx')\n",
    "plt.show()\n"
   ]
  },
  {
   "cell_type": "code",
   "execution_count": 27,
   "metadata": {},
   "outputs": [
    {
     "name": "stdout",
     "output_type": "stream",
     "text": [
      "Accuracy class 1 =  0.8639240506329114\n"
     ]
    }
   ],
   "source": [
    "X=np.c_[np.ones((x_test.shape[0], 1)), x_test].T\n",
    "predictions = np.dot(W1,X)\n",
    "predictions[predictions < 0] = 0\n",
    "predictions[predictions >0] = 1\n",
    "y1_test = y_test.copy()\n",
    "y1_test[y_test==0]=0\n",
    "y1_test[y_test==1]=1\n",
    "y1_test[y_test==2]=0\n",
    "print(\"Accuracy class 1 = \", sum(y1_test == predictions[0]) / x_test.shape[0] )"
   ]
  },
  {
   "cell_type": "code",
   "execution_count": 28,
   "metadata": {},
   "outputs": [
    {
     "name": "stdout",
     "output_type": "stream",
     "text": [
      "W2 = [[-6.03279491  1.7317014  -0.52388768 -0.89499944 -2.14451917]]\n"
     ]
    },
    {
     "data": {
      "image/png": "[encoded data removed]",
      "text/plain": [
       "<matplotlib.figure.Figure at 0x1ff936d28d0>"
      ]
     },
     "metadata": {},
     "output_type": "display_data"
    }
   ],
   "source": [
    "y2 = y_train.copy()\n",
    "y2[y_train==0]=0\n",
    "y2[y_train==1]=0\n",
    "y2[y_train==2]=1\n",
    "W2, cost_list = logisticRegression(x_train, y2, 0.01, 100000)\n",
    "\n",
    "print('W2 =', W2)\n",
    "for i in range(0, len(cost_list), 100):\n",
    "    plt.plot(cost_list[i][0], cost_list[i][1], 'gx')\n",
    "plt.show()"
   ]
  },
  {
   "cell_type": "code",
   "execution_count": 29,
   "metadata": {},
   "outputs": [
    {
     "name": "stdout",
     "output_type": "stream",
     "text": [
      "Accuracy for class 2: 0.9810126582278481\n"
     ]
    }
   ],
   "source": [
    "X=np.c_[np.ones((x_test.shape[0], 1)), x_test].T\n",
    "predictions = np.dot(W2,X)\n",
    "predictions[predictions < 0] = 0\n",
    "predictions[predictions >0] = 1\n",
    "y2_test = y_test.copy()\n",
    "y2_test[y_test==0]=0\n",
    "y2_test[y_test==1]=0\n",
    "y2_test[y_test==2]=1\n",
    "print(\"Accuracy for class 2:\", sum(y2_test == predictions[0]) / x_test.shape[0] )"
   ]
  },
  {
   "cell_type": "code",
   "execution_count": 30,
   "metadata": {},
   "outputs": [],
   "source": [
    "def distance(W, x):\n",
    "    num = np.dot(W, x)\n",
    "    deno = np.sqrt(np.dot(W, W.T))\n",
    "    return num/deno"
   ]
  },
  {
   "cell_type": "code",
   "execution_count": 31,
   "metadata": {},
   "outputs": [
    {
     "name": "stdout",
     "output_type": "stream",
     "text": [
      "Accuracy :  0.9620253164556962\n"
     ]
    }
   ],
   "source": [
    "C=np.c_[np.ones((x_test.shape[0], 1)), x_test].T\n",
    "\n",
    "prediction0 = np.dot(W0, C)\n",
    "prediction1 = np.dot(W1, C)\n",
    "prediction2 = np.dot(W2, C)\n",
    "prediction0[prediction0 < 0] = 0\n",
    "prediction0[prediction0 > 0] = 1\n",
    "prediction1[prediction1 < 0] = 0\n",
    "prediction1[prediction1 > 0] = 1\n",
    "prediction2[prediction2 < 0] = 0\n",
    "prediction2[prediction2 > 0] = 1\n",
    "p=np.r_[prediction0,prediction1,prediction2]\n",
    "\n",
    "dist=np.r_[distance(W0, C),distance(W1, C),distance(W2, C)]\n",
    "prediction=np.argmax(dist,0)\n",
    "\n",
    "print(\"Accuracy : \", sum(y_test == prediction) / x_test.shape[0] )"
   ]
  }
 ],
 "metadata": {
  "kernelspec": {
   "display_name": "Python 3",
   "language": "python",
   "name": "python3"
  },
  "language_info": {
   "codemirror_mode": {
    "name": "ipython",
    "version": 3
   },
   "file_extension": ".py",
   "mimetype": "text/x-python",
   "name": "python",
   "nbconvert_exporter": "python",
   "pygments_lexer": "ipython3",
   "version": "3.6.4"
  }
 },
 "nbformat": 4,
 "nbformat_minor": 2
}
